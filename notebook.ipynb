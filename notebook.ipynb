{
 "cells": [
  {
   "cell_type": "markdown",
   "id": "469ad008",
   "metadata": {},
   "source": [
    "# ✉️ Spam Detection\n",
    "\n",
    "***\n",
    "\n",
    "Spam is an issue that has persisted since the beginning of email. It makes up a great deal of email flows and causes a great deal of disruption each year. For example, each year millions of users fall victim to scams which are delivered through mass spam emails. Furthermore, spam is often associated with causes disruption to computer systems which damages property and hinders productivity. It is for reasons such as this that companies invest time and money into sophisticated spam-filtering systems. For this project, I will be attempting to create an SMS spam-filtering model using machine learning. \n",
    "\n",
    "Data: <a href=\"https://www.kaggle.com/datasets/uciml/sms-spam-collection-dataset/data\">Link (www.kaggle.com)</a>\n",
    "\n",
    "# Contents\n",
    ">  1. Importing the text data\n",
    ">  2. Exploratory Data Analysis (EDA)\n",
    ">  3. Data preprocessing\n",
    ">  4. Model training & evaluation\n",
    "\n",
    "# Libraries"
   ]
  },
  {
   "cell_type": "code",
   "execution_count": 29,
   "id": "4299b69e-9f3f-44b5-8f3b-0034bcb284ad",
   "metadata": {},
   "outputs": [
    {
     "data": {
      "text/plain": [
       "('2.1.4', '1.26.2', '0.13.0')"
      ]
     },
     "execution_count": 29,
     "metadata": {},
     "output_type": "execute_result"
    }
   ],
   "source": [
    "import warnings\n",
    "warnings.filterwarnings('ignore')\n",
    "\n",
    "import numpy as np\n",
    "import pandas as pd\n",
    "\n",
    "import matplotlib.pyplot as plt\n",
    "import seaborn as sns\n",
    "\n",
    "%matplotlib inline\n",
    "plt.style.use('fast')\n",
    "sns.set_style(\"ticks\")\n",
    "\n",
    "import string\n",
    "import re\n",
    "import nltk\n",
    "\n",
    "# nltk.download('punkt')\n",
    "# nltk.download('wordnet')\n",
    "# nltk.download('stopwords')\n",
    "\n",
    "from nltk.tokenize import word_tokenize\n",
    "from nltk.corpus import stopwords\n",
    "from nltk.stem import WordNetLemmatizer\n",
    "\n",
    "nltk.data.path.append('.\\\\nltk_data')\n",
    "\n",
    "from sklearn.model_selection import train_test_split\n",
    "from sklearn.feature_extraction.text import CountVectorizer\n",
    "from sklearn.feature_extraction.text import TfidfTransformer\n",
    "\n",
    "from sklearn.ensemble import RandomForestClassifier\n",
    "from sklearn.naive_bayes import MultinomialNB\n",
    "from sklearn.linear_model import LogisticRegression\n",
    "from sklearn.neighbors import KNeighborsClassifier\n",
    "from sklearn.linear_model import SGDClassifier\n",
    "from sklearn.svm import SVC\n",
    "\n",
    "from sklearn.pipeline import Pipeline\n",
    "\n",
    "from sklearn.metrics import accuracy_score, f1_score, roc_auc_score\n",
    "\n",
    "from sklearn.model_selection import GridSearchCV\n",
    "\n",
    "pd.__version__, np.__version__, sns.__version__"
   ]
  },
  {
   "cell_type": "markdown",
   "id": "d7f5b663-a868-4d74-9bb4-3e2002d3370d",
   "metadata": {},
   "source": [
    "### NLTK Dependencies\n",
    "\n",
    "**Punkt:** Word tokenization\n",
    "\n",
    "**Wordnet:** Corpus processing\n",
    "\n",
    "**Stopwords:** Filtering unhelpful, frequent words"
   ]
  },
  {
   "cell_type": "markdown",
   "id": "7b458ccb",
   "metadata": {},
   "source": [
    "# Importing the text data"
   ]
  },
  {
   "cell_type": "code",
   "execution_count": 2,
   "id": "33a43963",
   "metadata": {},
   "outputs": [
    {
     "data": {
      "text/html": [
       "<div>\n",
       "<style scoped>\n",
       "    .dataframe tbody tr th:only-of-type {\n",
       "        vertical-align: middle;\n",
       "    }\n",
       "\n",
       "    .dataframe tbody tr th {\n",
       "        vertical-align: top;\n",
       "    }\n",
       "\n",
       "    .dataframe thead th {\n",
       "        text-align: right;\n",
       "    }\n",
       "</style>\n",
       "<table border=\"1\" class=\"dataframe\">\n",
       "  <thead>\n",
       "    <tr style=\"text-align: right;\">\n",
       "      <th></th>\n",
       "      <th>v1</th>\n",
       "      <th>v2</th>\n",
       "      <th>Unnamed: 2</th>\n",
       "      <th>Unnamed: 3</th>\n",
       "      <th>Unnamed: 4</th>\n",
       "    </tr>\n",
       "  </thead>\n",
       "  <tbody>\n",
       "    <tr>\n",
       "      <th>0</th>\n",
       "      <td>ham</td>\n",
       "      <td>Go until jurong point, crazy.. Available only ...</td>\n",
       "      <td>NaN</td>\n",
       "      <td>NaN</td>\n",
       "      <td>NaN</td>\n",
       "    </tr>\n",
       "    <tr>\n",
       "      <th>1</th>\n",
       "      <td>ham</td>\n",
       "      <td>Ok lar... Joking wif u oni...</td>\n",
       "      <td>NaN</td>\n",
       "      <td>NaN</td>\n",
       "      <td>NaN</td>\n",
       "    </tr>\n",
       "    <tr>\n",
       "      <th>2</th>\n",
       "      <td>spam</td>\n",
       "      <td>Free entry in 2 a wkly comp to win FA Cup fina...</td>\n",
       "      <td>NaN</td>\n",
       "      <td>NaN</td>\n",
       "      <td>NaN</td>\n",
       "    </tr>\n",
       "    <tr>\n",
       "      <th>3</th>\n",
       "      <td>ham</td>\n",
       "      <td>U dun say so early hor... U c already then say...</td>\n",
       "      <td>NaN</td>\n",
       "      <td>NaN</td>\n",
       "      <td>NaN</td>\n",
       "    </tr>\n",
       "    <tr>\n",
       "      <th>4</th>\n",
       "      <td>ham</td>\n",
       "      <td>Nah I don't think he goes to usf, he lives aro...</td>\n",
       "      <td>NaN</td>\n",
       "      <td>NaN</td>\n",
       "      <td>NaN</td>\n",
       "    </tr>\n",
       "  </tbody>\n",
       "</table>\n",
       "</div>"
      ],
      "text/plain": [
       "     v1                                                 v2 Unnamed: 2  \\\n",
       "0   ham  Go until jurong point, crazy.. Available only ...        NaN   \n",
       "1   ham                      Ok lar... Joking wif u oni...        NaN   \n",
       "2  spam  Free entry in 2 a wkly comp to win FA Cup fina...        NaN   \n",
       "3   ham  U dun say so early hor... U c already then say...        NaN   \n",
       "4   ham  Nah I don't think he goes to usf, he lives aro...        NaN   \n",
       "\n",
       "  Unnamed: 3 Unnamed: 4  \n",
       "0        NaN        NaN  \n",
       "1        NaN        NaN  \n",
       "2        NaN        NaN  \n",
       "3        NaN        NaN  \n",
       "4        NaN        NaN  "
      ]
     },
     "execution_count": 2,
     "metadata": {},
     "output_type": "execute_result"
    }
   ],
   "source": [
    "df = pd.read_csv('data/spam.csv', encoding='latin-1')\n",
    "df.head()"
   ]
  },
  {
   "cell_type": "code",
   "execution_count": 3,
   "id": "4690124e",
   "metadata": {},
   "outputs": [
    {
     "name": "stdout",
     "output_type": "stream",
     "text": [
      "(5572, 3)\n"
     ]
    },
    {
     "data": {
      "text/html": [
       "<div>\n",
       "<style scoped>\n",
       "    .dataframe tbody tr th:only-of-type {\n",
       "        vertical-align: middle;\n",
       "    }\n",
       "\n",
       "    .dataframe tbody tr th {\n",
       "        vertical-align: top;\n",
       "    }\n",
       "\n",
       "    .dataframe thead th {\n",
       "        text-align: right;\n",
       "    }\n",
       "</style>\n",
       "<table border=\"1\" class=\"dataframe\">\n",
       "  <thead>\n",
       "    <tr style=\"text-align: right;\">\n",
       "      <th></th>\n",
       "      <th>type</th>\n",
       "      <th>text</th>\n",
       "      <th>target</th>\n",
       "    </tr>\n",
       "  </thead>\n",
       "  <tbody>\n",
       "    <tr>\n",
       "      <th>0</th>\n",
       "      <td>ham</td>\n",
       "      <td>Go until jurong point, crazy.. Available only ...</td>\n",
       "      <td>0</td>\n",
       "    </tr>\n",
       "    <tr>\n",
       "      <th>1</th>\n",
       "      <td>ham</td>\n",
       "      <td>Ok lar... Joking wif u oni...</td>\n",
       "      <td>0</td>\n",
       "    </tr>\n",
       "    <tr>\n",
       "      <th>2</th>\n",
       "      <td>spam</td>\n",
       "      <td>Free entry in 2 a wkly comp to win FA Cup fina...</td>\n",
       "      <td>1</td>\n",
       "    </tr>\n",
       "    <tr>\n",
       "      <th>3</th>\n",
       "      <td>ham</td>\n",
       "      <td>U dun say so early hor... U c already then say...</td>\n",
       "      <td>0</td>\n",
       "    </tr>\n",
       "    <tr>\n",
       "      <th>4</th>\n",
       "      <td>ham</td>\n",
       "      <td>Nah I don't think he goes to usf, he lives aro...</td>\n",
       "      <td>0</td>\n",
       "    </tr>\n",
       "    <tr>\n",
       "      <th>5</th>\n",
       "      <td>spam</td>\n",
       "      <td>FreeMsg Hey there darling it's been 3 week's n...</td>\n",
       "      <td>1</td>\n",
       "    </tr>\n",
       "    <tr>\n",
       "      <th>6</th>\n",
       "      <td>ham</td>\n",
       "      <td>Even my brother is not like to speak with me. ...</td>\n",
       "      <td>0</td>\n",
       "    </tr>\n",
       "    <tr>\n",
       "      <th>7</th>\n",
       "      <td>ham</td>\n",
       "      <td>As per your request 'Melle Melle (Oru Minnamin...</td>\n",
       "      <td>0</td>\n",
       "    </tr>\n",
       "    <tr>\n",
       "      <th>8</th>\n",
       "      <td>spam</td>\n",
       "      <td>WINNER!! As a valued network customer you have...</td>\n",
       "      <td>1</td>\n",
       "    </tr>\n",
       "    <tr>\n",
       "      <th>9</th>\n",
       "      <td>spam</td>\n",
       "      <td>Had your mobile 11 months or more? U R entitle...</td>\n",
       "      <td>1</td>\n",
       "    </tr>\n",
       "  </tbody>\n",
       "</table>\n",
       "</div>"
      ],
      "text/plain": [
       "   type                                               text  target\n",
       "0   ham  Go until jurong point, crazy.. Available only ...       0\n",
       "1   ham                      Ok lar... Joking wif u oni...       0\n",
       "2  spam  Free entry in 2 a wkly comp to win FA Cup fina...       1\n",
       "3   ham  U dun say so early hor... U c already then say...       0\n",
       "4   ham  Nah I don't think he goes to usf, he lives aro...       0\n",
       "5  spam  FreeMsg Hey there darling it's been 3 week's n...       1\n",
       "6   ham  Even my brother is not like to speak with me. ...       0\n",
       "7   ham  As per your request 'Melle Melle (Oru Minnamin...       0\n",
       "8  spam  WINNER!! As a valued network customer you have...       1\n",
       "9  spam  Had your mobile 11 months or more? U R entitle...       1"
      ]
     },
     "execution_count": 3,
     "metadata": {},
     "output_type": "execute_result"
    }
   ],
   "source": [
    "df.dropna(how='any', inplace=True, axis=1)\n",
    "df.columns = ['type', 'text']\n",
    "\n",
    "# Binary target column\n",
    "df['target'] = df['type'].map({'ham':0, 'spam':1})\n",
    "\n",
    "print(df.shape)\n",
    "df.head(10)"
   ]
  },
  {
   "cell_type": "markdown",
   "id": "4ca0851b",
   "metadata": {},
   "source": [
    "Our starting point is `5572` messages labeled spam or not spam. The `spam` column is represents our target vector numerically."
   ]
  },
  {
   "cell_type": "markdown",
   "id": "6cd2232c",
   "metadata": {},
   "source": [
    "# Exploratory Data Analysis (EDA)"
   ]
  },
  {
   "cell_type": "code",
   "execution_count": 4,
   "id": "df4f893a",
   "metadata": {},
   "outputs": [
    {
     "data": {
      "text/html": [
       "<div>\n",
       "<style scoped>\n",
       "    .dataframe tbody tr th:only-of-type {\n",
       "        vertical-align: middle;\n",
       "    }\n",
       "\n",
       "    .dataframe tbody tr th {\n",
       "        vertical-align: top;\n",
       "    }\n",
       "\n",
       "    .dataframe thead th {\n",
       "        text-align: right;\n",
       "    }\n",
       "</style>\n",
       "<table border=\"1\" class=\"dataframe\">\n",
       "  <thead>\n",
       "    <tr style=\"text-align: right;\">\n",
       "      <th></th>\n",
       "      <th>target</th>\n",
       "    </tr>\n",
       "  </thead>\n",
       "  <tbody>\n",
       "    <tr>\n",
       "      <th>count</th>\n",
       "      <td>5572.000000</td>\n",
       "    </tr>\n",
       "    <tr>\n",
       "      <th>mean</th>\n",
       "      <td>0.134063</td>\n",
       "    </tr>\n",
       "    <tr>\n",
       "      <th>std</th>\n",
       "      <td>0.340751</td>\n",
       "    </tr>\n",
       "    <tr>\n",
       "      <th>min</th>\n",
       "      <td>0.000000</td>\n",
       "    </tr>\n",
       "    <tr>\n",
       "      <th>25%</th>\n",
       "      <td>0.000000</td>\n",
       "    </tr>\n",
       "    <tr>\n",
       "      <th>50%</th>\n",
       "      <td>0.000000</td>\n",
       "    </tr>\n",
       "    <tr>\n",
       "      <th>75%</th>\n",
       "      <td>0.000000</td>\n",
       "    </tr>\n",
       "    <tr>\n",
       "      <th>max</th>\n",
       "      <td>1.000000</td>\n",
       "    </tr>\n",
       "  </tbody>\n",
       "</table>\n",
       "</div>"
      ],
      "text/plain": [
       "            target\n",
       "count  5572.000000\n",
       "mean      0.134063\n",
       "std       0.340751\n",
       "min       0.000000\n",
       "25%       0.000000\n",
       "50%       0.000000\n",
       "75%       0.000000\n",
       "max       1.000000"
      ]
     },
     "execution_count": 4,
     "metadata": {},
     "output_type": "execute_result"
    }
   ],
   "source": [
    "df.describe()"
   ]
  },
  {
   "cell_type": "code",
   "execution_count": 5,
   "id": "2024349b",
   "metadata": {},
   "outputs": [
    {
     "name": "stdout",
     "output_type": "stream",
     "text": [
      "Number of duplicate entries: 403\n"
     ]
    }
   ],
   "source": [
    "# Check for duplicates\n",
    "print('Number of duplicate entries:', \n",
    "      df.duplicated().sum())"
   ]
  },
  {
   "cell_type": "markdown",
   "id": "28d0ef20",
   "metadata": {},
   "source": [
    "The data has `747` spam messages and `4825` not spam (ham) messages and `403` of the messages are duplicates."
   ]
  },
  {
   "cell_type": "code",
   "execution_count": 6,
   "id": "fedc61b9",
   "metadata": {},
   "outputs": [
    {
     "data": {
      "text/plain": [
       "Text(0.5, 1.0, 'Target Distribution')"
      ]
     },
     "execution_count": 6,
     "metadata": {},
     "output_type": "execute_result"
    },
    {
     "data": {
      "image/png": "[encoded data removed]",
      "text/plain": [
       "<Figure size 800x600 with 1 Axes>"
      ]
     },
     "metadata": {},
     "output_type": "display_data"
    }
   ],
   "source": [
    "plt.figure(figsize=(4,3), dpi=200)\n",
    "\n",
    "sns.barplot(x=df['target'].value_counts().index, \n",
    "            y=df['target'].value_counts(), \n",
    "            hue=df['target'].value_counts().index)\n",
    "\n",
    "plt.xlabel('Target')\n",
    "plt.ylabel('Count')\n",
    "plt.title('Target Distribution')"
   ]
  },
  {
   "cell_type": "code",
   "execution_count": 7,
   "id": "03e975bc",
   "metadata": {},
   "outputs": [
    {
     "data": {
      "text/html": [
       "<div>\n",
       "<style scoped>\n",
       "    .dataframe tbody tr th:only-of-type {\n",
       "        vertical-align: middle;\n",
       "    }\n",
       "\n",
       "    .dataframe tbody tr th {\n",
       "        vertical-align: top;\n",
       "    }\n",
       "\n",
       "    .dataframe thead th {\n",
       "        text-align: right;\n",
       "    }\n",
       "</style>\n",
       "<table border=\"1\" class=\"dataframe\">\n",
       "  <thead>\n",
       "    <tr style=\"text-align: right;\">\n",
       "      <th></th>\n",
       "      <th>type</th>\n",
       "      <th>text</th>\n",
       "      <th>target</th>\n",
       "      <th>word_count</th>\n",
       "      <th>char_count</th>\n",
       "    </tr>\n",
       "  </thead>\n",
       "  <tbody>\n",
       "    <tr>\n",
       "      <th>0</th>\n",
       "      <td>ham</td>\n",
       "      <td>Go until jurong point, crazy.. Available only ...</td>\n",
       "      <td>0</td>\n",
       "      <td>20</td>\n",
       "      <td>111</td>\n",
       "    </tr>\n",
       "    <tr>\n",
       "      <th>1</th>\n",
       "      <td>ham</td>\n",
       "      <td>Ok lar... Joking wif u oni...</td>\n",
       "      <td>0</td>\n",
       "      <td>6</td>\n",
       "      <td>29</td>\n",
       "    </tr>\n",
       "    <tr>\n",
       "      <th>2</th>\n",
       "      <td>spam</td>\n",
       "      <td>Free entry in 2 a wkly comp to win FA Cup fina...</td>\n",
       "      <td>1</td>\n",
       "      <td>28</td>\n",
       "      <td>155</td>\n",
       "    </tr>\n",
       "    <tr>\n",
       "      <th>3</th>\n",
       "      <td>ham</td>\n",
       "      <td>U dun say so early hor... U c already then say...</td>\n",
       "      <td>0</td>\n",
       "      <td>11</td>\n",
       "      <td>49</td>\n",
       "    </tr>\n",
       "    <tr>\n",
       "      <th>4</th>\n",
       "      <td>ham</td>\n",
       "      <td>Nah I don't think he goes to usf, he lives aro...</td>\n",
       "      <td>0</td>\n",
       "      <td>13</td>\n",
       "      <td>61</td>\n",
       "    </tr>\n",
       "  </tbody>\n",
       "</table>\n",
       "</div>"
      ],
      "text/plain": [
       "   type                                               text  target  \\\n",
       "0   ham  Go until jurong point, crazy.. Available only ...       0   \n",
       "1   ham                      Ok lar... Joking wif u oni...       0   \n",
       "2  spam  Free entry in 2 a wkly comp to win FA Cup fina...       1   \n",
       "3   ham  U dun say so early hor... U c already then say...       0   \n",
       "4   ham  Nah I don't think he goes to usf, he lives aro...       0   \n",
       "\n",
       "   word_count  char_count  \n",
       "0          20         111  \n",
       "1           6          29  \n",
       "2          28         155  \n",
       "3          11          49  \n",
       "4          13          61  "
      ]
     },
     "execution_count": 7,
     "metadata": {},
     "output_type": "execute_result"
    }
   ],
   "source": [
    "df['word_count'] = df['text'].apply(lambda x: len(x.split()))\n",
    "df['char_count'] = df['text'].apply(len)\n",
    "\n",
    "df.head()"
   ]
  },
  {
   "cell_type": "code",
   "execution_count": 8,
   "id": "072f0a01",
   "metadata": {},
   "outputs": [
    {
     "data": {
      "text/plain": [
       "Text(0.5, 0, 'Word Count')"
      ]
     },
     "execution_count": 8,
     "metadata": {},
     "output_type": "execute_result"
    },
    {
     "data": {
      "image/png": "[encoded data removed]",
      "text/plain": [
       "<Figure size 800x600 with 1 Axes>"
      ]
     },
     "metadata": {},
     "output_type": "display_data"
    }
   ],
   "source": [
    "plt.figure(figsize=(4,3), dpi=200)\n",
    "\n",
    "sns.kdeplot(data=df, x='word_count', \n",
    "            hue='target', \n",
    "            fill=True)\n",
    "\n",
    "plt.title('Word Count Distribution')\n",
    "plt.xlabel('Word Count')\n"
   ]
  },
  {
   "cell_type": "code",
   "execution_count": 9,
   "id": "efe2b612",
   "metadata": {},
   "outputs": [
    {
     "data": {
      "text/plain": [
       "Text(0.5, 0, 'Character Count')"
      ]
     },
     "execution_count": 9,
     "metadata": {},
     "output_type": "execute_result"
    },
    {
     "data": {
      "image/png": "[encoded data removed]",
      "text/plain": [
       "<Figure size 800x600 with 1 Axes>"
      ]
     },
     "metadata": {},
     "output_type": "display_data"
    }
   ],
   "source": [
    "plt.figure(figsize=(4,3), dpi=200)\n",
    "\n",
    "sns.kdeplot(data=df, x='char_count', \n",
    "            hue='target', \n",
    "            fill=True)\n",
    "\n",
    "plt.title('Character Count Distribution')\n",
    "plt.xlabel('Character Count')\n"
   ]
  },
  {
   "cell_type": "code",
   "execution_count": 10,
   "id": "55657c56",
   "metadata": {},
   "outputs": [
    {
     "name": "stdout",
     "output_type": "stream",
     "text": [
      "         count        mean        std   min    25%    50%    75%    max\n",
      "target                                                                 \n",
      "0       4825.0   71.023627  58.016023   2.0   33.0   52.0   92.0  910.0\n",
      "1        747.0  138.866131  29.183082  13.0  132.5  149.0  157.0  224.0\n"
     ]
    }
   ],
   "source": [
    "print(df.groupby('target').describe()['char_count'])"
   ]
  },
  {
   "cell_type": "markdown",
   "id": "5c4943bb",
   "metadata": {},
   "source": [
    "We have engineered two new features, `word_count` and `char_count`. From a quick examination of their respective distributions, it is clear that spam messages are typically longer with a higher average word and character count and a smaller standard deviation in boths cases."
   ]
  },
  {
   "cell_type": "markdown",
   "id": "65f44d8c",
   "metadata": {},
   "source": [
    "# Data Preprocessing \n",
    "\n",
    "A prerequisite to training and evaluating models is ensuring that the data is in some numerical format which the algorithms can understand. Recall that we want to map some feature matrix to the target vector.\n",
    "\n",
    "$$g\\left(X\\right) = y$$\n",
    "\n",
    "The `target` column is the numerical representation of `type` and will be our $y$ vector. Currently, our feature matrix, $X$, has three features: `text`, `word_count` and `char_count`. The count-type features are already numeric, but `text` is string data type, which we cannot use in our feature matrix.\n",
    "\n",
    "There are various different methods of converting string data to numeric vector format.\n",
    "\n",
    "# Cleaning the data"
   ]
  },
  {
   "cell_type": "code",
   "execution_count": 11,
   "id": "04adc21d",
   "metadata": {},
   "outputs": [],
   "source": [
    "punctuations = string.punctuation"
   ]
  },
  {
   "cell_type": "code",
   "execution_count": 12,
   "id": "e5edf251",
   "metadata": {},
   "outputs": [
    {
     "data": {
      "text/html": [
       "<div>\n",
       "<style scoped>\n",
       "    .dataframe tbody tr th:only-of-type {\n",
       "        vertical-align: middle;\n",
       "    }\n",
       "\n",
       "    .dataframe tbody tr th {\n",
       "        vertical-align: top;\n",
       "    }\n",
       "\n",
       "    .dataframe thead th {\n",
       "        text-align: right;\n",
       "    }\n",
       "</style>\n",
       "<table border=\"1\" class=\"dataframe\">\n",
       "  <thead>\n",
       "    <tr style=\"text-align: right;\">\n",
       "      <th></th>\n",
       "      <th>type</th>\n",
       "      <th>text</th>\n",
       "      <th>target</th>\n",
       "      <th>word_count</th>\n",
       "      <th>char_count</th>\n",
       "      <th>cleaned_text</th>\n",
       "    </tr>\n",
       "  </thead>\n",
       "  <tbody>\n",
       "    <tr>\n",
       "      <th>0</th>\n",
       "      <td>ham</td>\n",
       "      <td>Go until jurong point, crazy.. Available only ...</td>\n",
       "      <td>0</td>\n",
       "      <td>20</td>\n",
       "      <td>111</td>\n",
       "      <td>Go until jurong point crazy Available only in ...</td>\n",
       "    </tr>\n",
       "    <tr>\n",
       "      <th>1</th>\n",
       "      <td>ham</td>\n",
       "      <td>Ok lar... Joking wif u oni...</td>\n",
       "      <td>0</td>\n",
       "      <td>6</td>\n",
       "      <td>29</td>\n",
       "      <td>Ok lar Joking wif u oni</td>\n",
       "    </tr>\n",
       "    <tr>\n",
       "      <th>2</th>\n",
       "      <td>spam</td>\n",
       "      <td>Free entry in 2 a wkly comp to win FA Cup fina...</td>\n",
       "      <td>1</td>\n",
       "      <td>28</td>\n",
       "      <td>155</td>\n",
       "      <td>Free entry in 2 a wkly comp to win FA Cup fina...</td>\n",
       "    </tr>\n",
       "    <tr>\n",
       "      <th>3</th>\n",
       "      <td>ham</td>\n",
       "      <td>U dun say so early hor... U c already then say...</td>\n",
       "      <td>0</td>\n",
       "      <td>11</td>\n",
       "      <td>49</td>\n",
       "      <td>U dun say so early hor U c already then say</td>\n",
       "    </tr>\n",
       "    <tr>\n",
       "      <th>4</th>\n",
       "      <td>ham</td>\n",
       "      <td>Nah I don't think he goes to usf, he lives aro...</td>\n",
       "      <td>0</td>\n",
       "      <td>13</td>\n",
       "      <td>61</td>\n",
       "      <td>Nah I dont think he goes to usf he lives aroun...</td>\n",
       "    </tr>\n",
       "  </tbody>\n",
       "</table>\n",
       "</div>"
      ],
      "text/plain": [
       "   type                                               text  target  \\\n",
       "0   ham  Go until jurong point, crazy.. Available only ...       0   \n",
       "1   ham                      Ok lar... Joking wif u oni...       0   \n",
       "2  spam  Free entry in 2 a wkly comp to win FA Cup fina...       1   \n",
       "3   ham  U dun say so early hor... U c already then say...       0   \n",
       "4   ham  Nah I don't think he goes to usf, he lives aro...       0   \n",
       "\n",
       "   word_count  char_count                                       cleaned_text  \n",
       "0          20         111  Go until jurong point crazy Available only in ...  \n",
       "1           6          29                            Ok lar Joking wif u oni  \n",
       "2          28         155  Free entry in 2 a wkly comp to win FA Cup fina...  \n",
       "3          11          49        U dun say so early hor U c already then say  \n",
       "4          13          61  Nah I dont think he goes to usf he lives aroun...  "
      ]
     },
     "execution_count": 12,
     "metadata": {},
     "output_type": "execute_result"
    }
   ],
   "source": [
    "def remove_punctuations(text):\n",
    "    for punctuation in punctuations:\n",
    "        text = text.replace(punctuation, '')\n",
    "    return text\n",
    "\n",
    "df['cleaned_text'] = df['text'].apply(remove_punctuations)\n",
    "df.head()"
   ]
  },
  {
   "cell_type": "markdown",
   "id": "220ca3ed",
   "metadata": {},
   "source": [
    "Great -- we have removed the following punctuation from the text, `!\"#$%&'()*+,-./:;<=>?@[\\]^_`{|}`~`. However, some of the messages may still contain links, numbers and linebreaks which we want to remove. To do this, we can use regular expressions (regex) thanks to the `re` package. "
   ]
  },
  {
   "cell_type": "code",
   "execution_count": 13,
   "id": "45004520",
   "metadata": {},
   "outputs": [
    {
     "data": {
      "text/html": [
       "<div>\n",
       "<style scoped>\n",
       "    .dataframe tbody tr th:only-of-type {\n",
       "        vertical-align: middle;\n",
       "    }\n",
       "\n",
       "    .dataframe tbody tr th {\n",
       "        vertical-align: top;\n",
       "    }\n",
       "\n",
       "    .dataframe thead th {\n",
       "        text-align: right;\n",
       "    }\n",
       "</style>\n",
       "<table border=\"1\" class=\"dataframe\">\n",
       "  <thead>\n",
       "    <tr style=\"text-align: right;\">\n",
       "      <th></th>\n",
       "      <th>type</th>\n",
       "      <th>text</th>\n",
       "      <th>target</th>\n",
       "      <th>word_count</th>\n",
       "      <th>char_count</th>\n",
       "      <th>cleaned_text</th>\n",
       "    </tr>\n",
       "  </thead>\n",
       "  <tbody>\n",
       "    <tr>\n",
       "      <th>0</th>\n",
       "      <td>ham</td>\n",
       "      <td>Go until jurong point, crazy.. Available only ...</td>\n",
       "      <td>0</td>\n",
       "      <td>20</td>\n",
       "      <td>111</td>\n",
       "      <td>go until jurong point crazy available only in ...</td>\n",
       "    </tr>\n",
       "    <tr>\n",
       "      <th>1</th>\n",
       "      <td>ham</td>\n",
       "      <td>Ok lar... Joking wif u oni...</td>\n",
       "      <td>0</td>\n",
       "      <td>6</td>\n",
       "      <td>29</td>\n",
       "      <td>ok lar joking wif u oni</td>\n",
       "    </tr>\n",
       "    <tr>\n",
       "      <th>2</th>\n",
       "      <td>spam</td>\n",
       "      <td>Free entry in 2 a wkly comp to win FA Cup fina...</td>\n",
       "      <td>1</td>\n",
       "      <td>28</td>\n",
       "      <td>155</td>\n",
       "      <td>free entry in  a wkly comp to win fa cup final...</td>\n",
       "    </tr>\n",
       "    <tr>\n",
       "      <th>3</th>\n",
       "      <td>ham</td>\n",
       "      <td>U dun say so early hor... U c already then say...</td>\n",
       "      <td>0</td>\n",
       "      <td>11</td>\n",
       "      <td>49</td>\n",
       "      <td>u dun say so early hor u c already then say</td>\n",
       "    </tr>\n",
       "    <tr>\n",
       "      <th>4</th>\n",
       "      <td>ham</td>\n",
       "      <td>Nah I don't think he goes to usf, he lives aro...</td>\n",
       "      <td>0</td>\n",
       "      <td>13</td>\n",
       "      <td>61</td>\n",
       "      <td>nah i dont think he goes to usf he lives aroun...</td>\n",
       "    </tr>\n",
       "  </tbody>\n",
       "</table>\n",
       "</div>"
      ],
      "text/plain": [
       "   type                                               text  target  \\\n",
       "0   ham  Go until jurong point, crazy.. Available only ...       0   \n",
       "1   ham                      Ok lar... Joking wif u oni...       0   \n",
       "2  spam  Free entry in 2 a wkly comp to win FA Cup fina...       1   \n",
       "3   ham  U dun say so early hor... U c already then say...       0   \n",
       "4   ham  Nah I don't think he goes to usf, he lives aro...       0   \n",
       "\n",
       "   word_count  char_count                                       cleaned_text  \n",
       "0          20         111  go until jurong point crazy available only in ...  \n",
       "1           6          29                            ok lar joking wif u oni  \n",
       "2          28         155  free entry in  a wkly comp to win fa cup final...  \n",
       "3          11          49        u dun say so early hor u c already then say  \n",
       "4          13          61  nah i dont think he goes to usf he lives aroun...  "
      ]
     },
     "execution_count": 13,
     "metadata": {},
     "output_type": "execute_result"
    }
   ],
   "source": [
    "def remove_numbers(text):\n",
    "    text = re.sub(r'\\d+', '', text)\n",
    "    return text\n",
    "\n",
    "def remove_links(text):\n",
    "    text = re.sub(r'http\\S+', '', text)\n",
    "    return text\n",
    "\n",
    "def remove_linebreaks(text):\n",
    "    text = re.sub(r'\\n', '', text)\n",
    "    return text\n",
    "\n",
    "def clean_text(text):\n",
    "    text = remove_punctuations(text)\n",
    "    text = remove_numbers(text)\n",
    "    text = remove_links(text)\n",
    "    text = remove_linebreaks(text)\n",
    "    return text\n",
    "\n",
    "df['cleaned_text'] = df['text'].apply(clean_text).str.lower()\n",
    "\n",
    "df.head()"
   ]
  },
  {
   "cell_type": "markdown",
   "id": "dc5c44fd",
   "metadata": {},
   "source": [
    "# Tokenising the data\n",
    "\n",
    "> **Note:** Due to technical difficulties with using `nltk.download`, I have manually sourced the nltk `wordnet`, `punkt` and `stopwords` dependencies. If you want to use these files be sure to first run `nltk.data.path.append('//nltk_data')`.\n",
    "\n",
    "Tokenising the text data essentially splits the text into smaller units, such as words or sentences. The `NLTK` package has two really useful packages, `word_tokenize` and `sent_tokenize` for tokenizing text into words and sentences, respectively."
   ]
  },
  {
   "cell_type": "code",
   "execution_count": 14,
   "id": "b906596f",
   "metadata": {},
   "outputs": [
    {
     "data": {
      "text/plain": [
       "['ok', 'lar', 'joking', 'wif', 'u', 'oni']"
      ]
     },
     "execution_count": 14,
     "metadata": {},
     "output_type": "execute_result"
    }
   ],
   "source": [
    "word_tokenize(df['cleaned_text'][1])"
   ]
  },
  {
   "cell_type": "code",
   "execution_count": 15,
   "id": "2dc6aadc",
   "metadata": {},
   "outputs": [
    {
     "data": {
      "text/html": [
       "<div>\n",
       "<style scoped>\n",
       "    .dataframe tbody tr th:only-of-type {\n",
       "        vertical-align: middle;\n",
       "    }\n",
       "\n",
       "    .dataframe tbody tr th {\n",
       "        vertical-align: top;\n",
       "    }\n",
       "\n",
       "    .dataframe thead th {\n",
       "        text-align: right;\n",
       "    }\n",
       "</style>\n",
       "<table border=\"1\" class=\"dataframe\">\n",
       "  <thead>\n",
       "    <tr style=\"text-align: right;\">\n",
       "      <th></th>\n",
       "      <th>type</th>\n",
       "      <th>text</th>\n",
       "      <th>target</th>\n",
       "      <th>word_count</th>\n",
       "      <th>char_count</th>\n",
       "      <th>cleaned_text</th>\n",
       "      <th>tokenized_text</th>\n",
       "    </tr>\n",
       "  </thead>\n",
       "  <tbody>\n",
       "    <tr>\n",
       "      <th>0</th>\n",
       "      <td>ham</td>\n",
       "      <td>Go until jurong point, crazy.. Available only ...</td>\n",
       "      <td>0</td>\n",
       "      <td>20</td>\n",
       "      <td>111</td>\n",
       "      <td>go until jurong point crazy available only in ...</td>\n",
       "      <td>[go, until, jurong, point, crazy, available, o...</td>\n",
       "    </tr>\n",
       "    <tr>\n",
       "      <th>1</th>\n",
       "      <td>ham</td>\n",
       "      <td>Ok lar... Joking wif u oni...</td>\n",
       "      <td>0</td>\n",
       "      <td>6</td>\n",
       "      <td>29</td>\n",
       "      <td>ok lar joking wif u oni</td>\n",
       "      <td>[ok, lar, joking, wif, u, oni]</td>\n",
       "    </tr>\n",
       "    <tr>\n",
       "      <th>2</th>\n",
       "      <td>spam</td>\n",
       "      <td>Free entry in 2 a wkly comp to win FA Cup fina...</td>\n",
       "      <td>1</td>\n",
       "      <td>28</td>\n",
       "      <td>155</td>\n",
       "      <td>free entry in  a wkly comp to win fa cup final...</td>\n",
       "      <td>[free, entry, in, a, wkly, comp, to, win, fa, ...</td>\n",
       "    </tr>\n",
       "    <tr>\n",
       "      <th>3</th>\n",
       "      <td>ham</td>\n",
       "      <td>U dun say so early hor... U c already then say...</td>\n",
       "      <td>0</td>\n",
       "      <td>11</td>\n",
       "      <td>49</td>\n",
       "      <td>u dun say so early hor u c already then say</td>\n",
       "      <td>[u, dun, say, so, early, hor, u, c, already, t...</td>\n",
       "    </tr>\n",
       "    <tr>\n",
       "      <th>4</th>\n",
       "      <td>ham</td>\n",
       "      <td>Nah I don't think he goes to usf, he lives aro...</td>\n",
       "      <td>0</td>\n",
       "      <td>13</td>\n",
       "      <td>61</td>\n",
       "      <td>nah i dont think he goes to usf he lives aroun...</td>\n",
       "      <td>[nah, i, dont, think, he, goes, to, usf, he, l...</td>\n",
       "    </tr>\n",
       "  </tbody>\n",
       "</table>\n",
       "</div>"
      ],
      "text/plain": [
       "   type                                               text  target  \\\n",
       "0   ham  Go until jurong point, crazy.. Available only ...       0   \n",
       "1   ham                      Ok lar... Joking wif u oni...       0   \n",
       "2  spam  Free entry in 2 a wkly comp to win FA Cup fina...       1   \n",
       "3   ham  U dun say so early hor... U c already then say...       0   \n",
       "4   ham  Nah I don't think he goes to usf, he lives aro...       0   \n",
       "\n",
       "   word_count  char_count                                       cleaned_text  \\\n",
       "0          20         111  go until jurong point crazy available only in ...   \n",
       "1           6          29                            ok lar joking wif u oni   \n",
       "2          28         155  free entry in  a wkly comp to win fa cup final...   \n",
       "3          11          49        u dun say so early hor u c already then say   \n",
       "4          13          61  nah i dont think he goes to usf he lives aroun...   \n",
       "\n",
       "                                      tokenized_text  \n",
       "0  [go, until, jurong, point, crazy, available, o...  \n",
       "1                     [ok, lar, joking, wif, u, oni]  \n",
       "2  [free, entry, in, a, wkly, comp, to, win, fa, ...  \n",
       "3  [u, dun, say, so, early, hor, u, c, already, t...  \n",
       "4  [nah, i, dont, think, he, goes, to, usf, he, l...  "
      ]
     },
     "execution_count": 15,
     "metadata": {},
     "output_type": "execute_result"
    }
   ],
   "source": [
    "def tokenize(text):\n",
    "    return nltk.word_tokenize(text)\n",
    "\n",
    "df['tokenized_text'] = df['cleaned_text'].apply(tokenize)\n",
    "\n",
    "df.head()"
   ]
  },
  {
   "cell_type": "markdown",
   "id": "1c7965cd",
   "metadata": {},
   "source": [
    "There are various ways of tokenizing data, including Python's built-in `split` command and packages, such as `NLTK`, `Keras`, `Gensim` and `spaCy`."
   ]
  },
  {
   "cell_type": "markdown",
   "id": "005bdf0a-99d4-4beb-89d2-ba4597a8dee6",
   "metadata": {},
   "source": [
    "# Stopwords\n",
    "\n",
    "Some words are insignificant are highly frequent in the English language. We call such words `stop words`. These words can be troublesome during the training of NLP models, hence we remove them. No universal list of stop words has been agreed upon; however, there are some popular compilations, such as <a href=\"https://gist.github.com/sebleier/554280\">`NLTK`'s collection</a>.\n",
    "\n",
    "We will use `NLTK` to remove stop words from our text."
   ]
  },
  {
   "cell_type": "code",
   "execution_count": 16,
   "id": "4a370587-d2a1-4602-9e12-f4fe8d13a965",
   "metadata": {},
   "outputs": [
    {
     "name": "stdout",
     "output_type": "stream",
     "text": [
      "['i', 'me', 'my', 'myself', 'we', 'our', 'ours', 'ourselves', 'you', \"you're\", \"you've\", \"you'll\", \"you'd\", 'your', 'yours', 'yourself', 'yourselves', 'he', 'him', 'his', 'himself', 'she', \"she's\", 'her', 'hers', 'herself', 'it', \"it's\", 'its', 'itself', 'they', 'them', 'their', 'theirs', 'themselves', 'what', 'which', 'who', 'whom', 'this', 'that', \"that'll\", 'these', 'those', 'am', 'is', 'are', 'was', 'were', 'be', 'been', 'being', 'have', 'has', 'had', 'having', 'do', 'does', 'did', 'doing', 'a', 'an', 'the', 'and', 'but', 'if', 'or', 'because', 'as', 'until', 'while', 'of', 'at', 'by', 'for', 'with', 'about', 'against', 'between', 'into', 'through', 'during', 'before', 'after', 'above', 'below', 'to', 'from', 'up', 'down', 'in', 'out', 'on', 'off', 'over', 'under', 'again', 'further', 'then', 'once', 'here', 'there', 'when', 'where', 'why', 'how', 'all', 'any', 'both', 'each', 'few', 'more', 'most', 'other', 'some', 'such', 'no', 'nor', 'not', 'only', 'own', 'same', 'so', 'than', 'too', 'very', 's', 't', 'can', 'will', 'just', 'don', \"don't\", 'should', \"should've\", 'now', 'd', 'll', 'm', 'o', 're', 've', 'y', 'ain', 'aren', \"aren't\", 'couldn', \"couldn't\", 'didn', \"didn't\", 'doesn', \"doesn't\", 'hadn', \"hadn't\", 'hasn', \"hasn't\", 'haven', \"haven't\", 'isn', \"isn't\", 'ma', 'mightn', \"mightn't\", 'mustn', \"mustn't\", 'needn', \"needn't\", 'shan', \"shan't\", 'shouldn', \"shouldn't\", 'wasn', \"wasn't\", 'weren', \"weren't\", 'won', \"won't\", 'wouldn', \"wouldn't\"]\n"
     ]
    }
   ],
   "source": [
    "stop_words = stopwords.words('english')\n",
    "\n",
    "print(stop_words)"
   ]
  },
  {
   "cell_type": "markdown",
   "id": "08b6405c-0fd8-4d65-80a3-a2bde0637146",
   "metadata": {},
   "source": [
    "Given that we're working with SMS data, there is likely some negligently-spelt words, for example \"u\" (you), \"im\" (I'm) and \"c\" (see). See here: <a href=\"https://en.wikipedia.org/wiki/SMS_language\">SMS Language</a>.\n",
    "\n",
    "Because `stop_words` is just a list we can append it with any necessary additions."
   ]
  },
  {
   "cell_type": "code",
   "execution_count": 17,
   "id": "6eb3dc96-3ced-442b-bf3d-e34f34e36421",
   "metadata": {},
   "outputs": [],
   "source": [
    "more_stopwords = ['u', 'im', 'c', 'ü', 'ur', '4', '2', 'dont', 'doin', 'ure']\n",
    "stop_words = stop_words + more_stopwords"
   ]
  },
  {
   "cell_type": "code",
   "execution_count": 18,
   "id": "a9f07c19-7f3a-4f6e-8f58-52b1ab37a0e5",
   "metadata": {},
   "outputs": [
    {
     "data": {
      "text/html": [
       "<div>\n",
       "<style scoped>\n",
       "    .dataframe tbody tr th:only-of-type {\n",
       "        vertical-align: middle;\n",
       "    }\n",
       "\n",
       "    .dataframe tbody tr th {\n",
       "        vertical-align: top;\n",
       "    }\n",
       "\n",
       "    .dataframe thead th {\n",
       "        text-align: right;\n",
       "    }\n",
       "</style>\n",
       "<table border=\"1\" class=\"dataframe\">\n",
       "  <thead>\n",
       "    <tr style=\"text-align: right;\">\n",
       "      <th></th>\n",
       "      <th>type</th>\n",
       "      <th>text</th>\n",
       "      <th>target</th>\n",
       "      <th>word_count</th>\n",
       "      <th>char_count</th>\n",
       "      <th>cleaned_text</th>\n",
       "      <th>tokenized_text</th>\n",
       "    </tr>\n",
       "  </thead>\n",
       "  <tbody>\n",
       "    <tr>\n",
       "      <th>0</th>\n",
       "      <td>ham</td>\n",
       "      <td>Go until jurong point, crazy.. Available only ...</td>\n",
       "      <td>0</td>\n",
       "      <td>20</td>\n",
       "      <td>111</td>\n",
       "      <td>go until jurong point crazy available only in ...</td>\n",
       "      <td>[go, jurong, point, crazy, available, bugis, n...</td>\n",
       "    </tr>\n",
       "    <tr>\n",
       "      <th>1</th>\n",
       "      <td>ham</td>\n",
       "      <td>Ok lar... Joking wif u oni...</td>\n",
       "      <td>0</td>\n",
       "      <td>6</td>\n",
       "      <td>29</td>\n",
       "      <td>ok lar joking wif u oni</td>\n",
       "      <td>[ok, lar, joking, wif, oni]</td>\n",
       "    </tr>\n",
       "    <tr>\n",
       "      <th>2</th>\n",
       "      <td>spam</td>\n",
       "      <td>Free entry in 2 a wkly comp to win FA Cup fina...</td>\n",
       "      <td>1</td>\n",
       "      <td>28</td>\n",
       "      <td>155</td>\n",
       "      <td>free entry in  a wkly comp to win fa cup final...</td>\n",
       "      <td>[free, entry, wkly, comp, win, fa, cup, final,...</td>\n",
       "    </tr>\n",
       "    <tr>\n",
       "      <th>3</th>\n",
       "      <td>ham</td>\n",
       "      <td>U dun say so early hor... U c already then say...</td>\n",
       "      <td>0</td>\n",
       "      <td>11</td>\n",
       "      <td>49</td>\n",
       "      <td>u dun say so early hor u c already then say</td>\n",
       "      <td>[dun, say, early, hor, already, say]</td>\n",
       "    </tr>\n",
       "    <tr>\n",
       "      <th>4</th>\n",
       "      <td>ham</td>\n",
       "      <td>Nah I don't think he goes to usf, he lives aro...</td>\n",
       "      <td>0</td>\n",
       "      <td>13</td>\n",
       "      <td>61</td>\n",
       "      <td>nah i dont think he goes to usf he lives aroun...</td>\n",
       "      <td>[nah, think, goes, usf, lives, around, though]</td>\n",
       "    </tr>\n",
       "  </tbody>\n",
       "</table>\n",
       "</div>"
      ],
      "text/plain": [
       "   type                                               text  target  \\\n",
       "0   ham  Go until jurong point, crazy.. Available only ...       0   \n",
       "1   ham                      Ok lar... Joking wif u oni...       0   \n",
       "2  spam  Free entry in 2 a wkly comp to win FA Cup fina...       1   \n",
       "3   ham  U dun say so early hor... U c already then say...       0   \n",
       "4   ham  Nah I don't think he goes to usf, he lives aro...       0   \n",
       "\n",
       "   word_count  char_count                                       cleaned_text  \\\n",
       "0          20         111  go until jurong point crazy available only in ...   \n",
       "1           6          29                            ok lar joking wif u oni   \n",
       "2          28         155  free entry in  a wkly comp to win fa cup final...   \n",
       "3          11          49        u dun say so early hor u c already then say   \n",
       "4          13          61  nah i dont think he goes to usf he lives aroun...   \n",
       "\n",
       "                                      tokenized_text  \n",
       "0  [go, jurong, point, crazy, available, bugis, n...  \n",
       "1                        [ok, lar, joking, wif, oni]  \n",
       "2  [free, entry, wkly, comp, win, fa, cup, final,...  \n",
       "3               [dun, say, early, hor, already, say]  \n",
       "4     [nah, think, goes, usf, lives, around, though]  "
      ]
     },
     "execution_count": 18,
     "metadata": {},
     "output_type": "execute_result"
    }
   ],
   "source": [
    "def remove_stopwords(text):\n",
    "    text = ' '.join(word for word in text if word not in stop_words).split(' ')\n",
    "    return text\n",
    "\n",
    "df['tokenized_text'] = df['tokenized_text'].apply(remove_stopwords)\n",
    "\n",
    "df.head()"
   ]
  },
  {
   "cell_type": "markdown",
   "id": "4b8a71cc-85b9-4165-8871-47a8a828d2f6",
   "metadata": {},
   "source": [
    "# Stemming\n",
    "\n",
    "`Stemming` is a technique to reduce words to their root or base form. The motivation behind stemming is to improve the performance of text classification and related NLP tasks. Stemming typically entails stripping words of prefixes, such as \"ing\", \"ed\", \"s\", etc.\n",
    "\n",
    "**Example:**\n",
    "\n",
    "creative, creating, created, creating -> create\n",
    "\n",
    "Through stemming we are able to reduce the total vocabulary very quickly, with some sacrifice to information quality. There are also some cases when you can over-stem and under-stem, potentially misrepresenting the entire sentiment of a word!\n",
    "\n",
    "For this particular project, we will not use a stemming technique; instead, consider `Lemmatization`, a more recent, more computationally heavy approach!\n",
    "\n",
    "# Lemmatization\n",
    "\n",
    "Lemmatization is similar to stemming in that it reduces words down to their canonical dictionary form. Lemmatization is more difficult and complicated to implement than stemming. The method first analyses the text and considers the context of a word before converting the word to its root. This way conversions are meaningful and likely to remain full English words (this may vary or be more difficult when working with other languages).\n",
    "\n",
    "There are lots of different ways to perform lemmatization, but for this project we will be using `WordNet`, a database of semantic relations, as our lemmitizer, instead of training our own."
   ]
  },
  {
   "cell_type": "code",
   "execution_count": 19,
   "id": "84e962f8",
   "metadata": {},
   "outputs": [
    {
     "data": {
      "text/html": [
       "<div>\n",
       "<style scoped>\n",
       "    .dataframe tbody tr th:only-of-type {\n",
       "        vertical-align: middle;\n",
       "    }\n",
       "\n",
       "    .dataframe tbody tr th {\n",
       "        vertical-align: top;\n",
       "    }\n",
       "\n",
       "    .dataframe thead th {\n",
       "        text-align: right;\n",
       "    }\n",
       "</style>\n",
       "<table border=\"1\" class=\"dataframe\">\n",
       "  <thead>\n",
       "    <tr style=\"text-align: right;\">\n",
       "      <th></th>\n",
       "      <th>type</th>\n",
       "      <th>text</th>\n",
       "      <th>target</th>\n",
       "      <th>word_count</th>\n",
       "      <th>char_count</th>\n",
       "      <th>cleaned_text</th>\n",
       "      <th>tokenized_text</th>\n",
       "    </tr>\n",
       "  </thead>\n",
       "  <tbody>\n",
       "    <tr>\n",
       "      <th>0</th>\n",
       "      <td>ham</td>\n",
       "      <td>Go until jurong point, crazy.. Available only ...</td>\n",
       "      <td>0</td>\n",
       "      <td>20</td>\n",
       "      <td>111</td>\n",
       "      <td>go until jurong point crazy available only in ...</td>\n",
       "      <td>[go, jurong, point, crazy, available, bugis, n...</td>\n",
       "    </tr>\n",
       "    <tr>\n",
       "      <th>1</th>\n",
       "      <td>ham</td>\n",
       "      <td>Ok lar... Joking wif u oni...</td>\n",
       "      <td>0</td>\n",
       "      <td>6</td>\n",
       "      <td>29</td>\n",
       "      <td>ok lar joking wif u oni</td>\n",
       "      <td>[ok, lar, joking, wif, oni]</td>\n",
       "    </tr>\n",
       "    <tr>\n",
       "      <th>2</th>\n",
       "      <td>spam</td>\n",
       "      <td>Free entry in 2 a wkly comp to win FA Cup fina...</td>\n",
       "      <td>1</td>\n",
       "      <td>28</td>\n",
       "      <td>155</td>\n",
       "      <td>free entry in  a wkly comp to win fa cup final...</td>\n",
       "      <td>[free, entry, wkly, comp, win, fa, cup, final,...</td>\n",
       "    </tr>\n",
       "    <tr>\n",
       "      <th>3</th>\n",
       "      <td>ham</td>\n",
       "      <td>U dun say so early hor... U c already then say...</td>\n",
       "      <td>0</td>\n",
       "      <td>11</td>\n",
       "      <td>49</td>\n",
       "      <td>u dun say so early hor u c already then say</td>\n",
       "      <td>[dun, say, early, hor, already, say]</td>\n",
       "    </tr>\n",
       "    <tr>\n",
       "      <th>4</th>\n",
       "      <td>ham</td>\n",
       "      <td>Nah I don't think he goes to usf, he lives aro...</td>\n",
       "      <td>0</td>\n",
       "      <td>13</td>\n",
       "      <td>61</td>\n",
       "      <td>nah i dont think he goes to usf he lives aroun...</td>\n",
       "      <td>[nah, think, go, usf, life, around, though]</td>\n",
       "    </tr>\n",
       "  </tbody>\n",
       "</table>\n",
       "</div>"
      ],
      "text/plain": [
       "   type                                               text  target  \\\n",
       "0   ham  Go until jurong point, crazy.. Available only ...       0   \n",
       "1   ham                      Ok lar... Joking wif u oni...       0   \n",
       "2  spam  Free entry in 2 a wkly comp to win FA Cup fina...       1   \n",
       "3   ham  U dun say so early hor... U c already then say...       0   \n",
       "4   ham  Nah I don't think he goes to usf, he lives aro...       0   \n",
       "\n",
       "   word_count  char_count                                       cleaned_text  \\\n",
       "0          20         111  go until jurong point crazy available only in ...   \n",
       "1           6          29                            ok lar joking wif u oni   \n",
       "2          28         155  free entry in  a wkly comp to win fa cup final...   \n",
       "3          11          49        u dun say so early hor u c already then say   \n",
       "4          13          61  nah i dont think he goes to usf he lives aroun...   \n",
       "\n",
       "                                      tokenized_text  \n",
       "0  [go, jurong, point, crazy, available, bugis, n...  \n",
       "1                        [ok, lar, joking, wif, oni]  \n",
       "2  [free, entry, wkly, comp, win, fa, cup, final,...  \n",
       "3               [dun, say, early, hor, already, say]  \n",
       "4        [nah, think, go, usf, life, around, though]  "
      ]
     },
     "execution_count": 19,
     "metadata": {},
     "output_type": "execute_result"
    }
   ],
   "source": [
    "lemmatizer = WordNetLemmatizer()\n",
    "\n",
    "def lemmatize(text):\n",
    "    text = ' '.join(lemmatizer.lemmatize(word) for word in text).split(' ')\n",
    "    return text\n",
    "\n",
    "df['tokenized_text'] = df['tokenized_text'].apply(lemmatize)\n",
    "\n",
    "df.head()"
   ]
  },
  {
   "cell_type": "markdown",
   "id": "ad9d4ad3",
   "metadata": {},
   "source": [
    "# Summary of preprocessing\n",
    "\n",
    "So what have we done to the data so far?\n",
    "\n",
    "> 1. Cleaned the data using regex\n",
    "> 2. Tokenized the data with NLTK punkt\n",
    "> 3. Removed stopwords\n",
    "> 3. Performed lemmatization using NLTK WordNet\n",
    "\n",
    "It remains to convert our text into a numerical format which should be easier now that we've cleaned the data."
   ]
  },
  {
   "cell_type": "markdown",
   "id": "717355b7",
   "metadata": {},
   "source": [
    "# Vectorizing the data\n",
    "\n",
    "We want to convert the tokenized string data to numerical data. We can do this by creating an M x N matrix where M is the number of entries and N is the number of unique words.\n",
    "\n",
    "`Document-1: He is a smart boy. She is also smart.`\n",
    "\n",
    "`Document-2: Chirag is a smart person.`\n",
    "\n",
    "| - | He | She | smart | boy | person\n",
    "| - | - | - | - | - | - |\n",
    "| D1 | 1 | 1 | 2 | 1 | 0 |\n",
    "| D2 | - | - | 1 | - | 1 |\n",
    "\n",
    "\n",
    "**Validation Framekwork:** `60/20/20 (%) - Train/Valdidation/Test`"
   ]
  },
  {
   "cell_type": "code",
   "execution_count": 21,
   "id": "beedce1b",
   "metadata": {},
   "outputs": [
    {
     "data": {
      "text/plain": [
       "((4457,), (3342,), (1115,), (1115,))"
      ]
     },
     "execution_count": 21,
     "metadata": {},
     "output_type": "execute_result"
    }
   ],
   "source": [
    "X = df.tokenized_text\n",
    "y = df.target\n",
    "\n",
    "X_full_train, X_test, y__full_train, y_test = train_test_split(X, y, test_size=0.2, random_state=42)\n",
    "X_train, X_val, y_train, y_val = train_test_split(X_full_train, y__full_train, test_size=0.25, random_state=42)\n",
    "\n",
    "X_full_train.shape, X_train.shape, X_val.shape, X_test.shape"
   ]
  },
  {
   "cell_type": "markdown",
   "id": "b80c62d6",
   "metadata": {},
   "source": [
    "# CountVectorizer\n",
    "\n",
    "EXPLANATION HERE"
   ]
  },
  {
   "cell_type": "code",
   "execution_count": 22,
   "id": "4ff83b9c",
   "metadata": {},
   "outputs": [],
   "source": [
    "def dummy(doc):\n",
    "    return doc\n",
    "\n",
    "cv = CountVectorizer(tokenizer=dummy, preprocessor=dummy)\n",
    "\n",
    "X_full_train_num = cv.fit_transform(X_full_train)\n",
    "X_test_num = cv.transform(X_test)\n",
    "\n",
    "X_train_num = cv.fit_transform(X_train)\n",
    "X_val_num = cv.transform(X_val)"
   ]
  },
  {
   "cell_type": "markdown",
   "id": "cfca1e2e",
   "metadata": {},
   "source": [
    "# TfidfTransformer\n",
    "\n",
    "**TF-IDF:** Term Frequency - Inverse Document Frequency\n",
    "\n",
    "TF-IDF is a vectorization process which scores words based on their importance relative to a body of text (a corpus). It is the most popular text scoring scheme and can be easily implemented using `scikit-learn`.\n",
    "\n",
    "The formula for TF-IDF is as follows: $$TF \\text{--} IDF = TF * IDF$$\n",
    "\n",
    "**Term Frequency (TF):** Number of times a term appears relative to the total amount of terms\n",
    "\n",
    "$$TF = \\frac{\\text{number of times a word appears}}{\\text{total number of words}}$$\n",
    "\n",
    "**Inverse Document Frequency (IDF):** More unique words receive a higher weighting than common words \n",
    "\n",
    "$$IDF = \\frac{\\text{number of documents in the corpus}}{\\text{number of documents the word appears in}}$$\n",
    "\n",
    "For this project we will be implementing TF-IDF using `TfidfTransformer()` from `scikit-learn`.\n"
   ]
  },
  {
   "cell_type": "code",
   "execution_count": 23,
   "id": "72f4e7b3",
   "metadata": {},
   "outputs": [
    {
     "data": {
      "text/plain": [
       "<3342x5880 sparse matrix of type '<class 'numpy.float64'>'\n",
       "\twith 27181 stored elements in Compressed Sparse Row format>"
      ]
     },
     "execution_count": 23,
     "metadata": {},
     "output_type": "execute_result"
    }
   ],
   "source": [
    "tfidf = TfidfTransformer()\n",
    "\n",
    "tfidf.fit_transform(X_train_num)"
   ]
  },
  {
   "cell_type": "markdown",
   "id": "f9e6178c",
   "metadata": {},
   "source": [
    "# Modelling\n",
    "\n",
    "**Order of operations:**\n",
    "\n",
    "> 1. Evaluate models on `train` (60%) and validate on `val` (20%) splits\n",
    "> 2. Choose the best performing model and fine-tune performance\n",
    "> 3. Train the final model on the extended training set (`train` + `val` = 80%) and validate on the `test` (20%) split\n",
    "\n",
    "Given that our data is already tokenised and preprocessed using `TFidfTransformer`"
   ]
  },
  {
   "cell_type": "code",
   "execution_count": 24,
   "id": "394db9f2",
   "metadata": {},
   "outputs": [
    {
     "data": {
      "text/plain": [
       "{'RF': {'Accuracy': '0.97', 'AUC': '0.88', 'F1': '0.87'},\n",
       " 'NB': {'Accuracy': '0.97', 'AUC': '0.84', 'F1': '0.82'},\n",
       " 'LR': {'Accuracy': '0.97', 'AUC': '0.84', 'F1': '0.81'},\n",
       " 'SVM': {'Accuracy': '0.98', 'AUC': '0.89', 'F1': '0.88'},\n",
       " 'SGD': {'Accuracy': '0.98', 'AUC': '0.92', 'F1': '0.89'},\n",
       " 'KNN': {'Accuracy': '0.97', 'AUC': '0.87', 'F1': '0.85'}}"
      ]
     },
     "execution_count": 24,
     "metadata": {},
     "output_type": "execute_result"
    }
   ],
   "source": [
    "models = {\n",
    "    'RF': RandomForestClassifier(),\n",
    "    'NB': MultinomialNB(),\n",
    "    'LR': LogisticRegression(),\n",
    "    'SVM': SVC(),\n",
    "    'SGD': SGDClassifier(),\n",
    "    'KNN': KNeighborsClassifier()\n",
    "}\n",
    "\n",
    "model_scores = {}\n",
    "\n",
    "def train_eval_model(model, X_train, y_train, X_val):\n",
    "    \n",
    "    pipe = Pipeline([\n",
    "        ('vect', CountVectorizer(tokenizer=dummy, \n",
    "                                 preprocessor=dummy)),\n",
    "        ('tfidf', TfidfTransformer()),\n",
    "        ('model', model)\n",
    "    ])\n",
    "    \n",
    "    pipe.fit(X_train, y_train)\n",
    "    y_pred = pipe.predict(X_val)\n",
    "\n",
    "    return y_pred\n",
    "\n",
    "\n",
    "for name, model in models.items():\n",
    "    \n",
    "    y_pred = train_eval_model(model, X_train, y_train, X_val)\n",
    "    \n",
    "    scores = {'Accuracy' : f'{accuracy_score(y_val, y_pred):.2f}', \n",
    "           'AUC' : f'{roc_auc_score(y_val, y_pred):.2f}', \n",
    "           'F1' : f'{f1_score(y_val, y_pred):.2f}'}\n",
    "    \n",
    "    model_scores[name] = scores\n",
    "    \n",
    "model_scores"
   ]
  },
  {
   "cell_type": "markdown",
   "id": "88cff185",
   "metadata": {},
   "source": [
    "**Stochastic Gradient Descent (SGD)** is the highest-scoring model in terms of accuracy and AUC; hence, will be the model of choice for fine-tuning."
   ]
  },
  {
   "cell_type": "markdown",
   "id": "ff78210e",
   "metadata": {},
   "source": [
    "# Tuning the model"
   ]
  },
  {
   "cell_type": "code",
   "execution_count": 25,
   "id": "de2c2929",
   "metadata": {},
   "outputs": [
    {
     "data": {
      "text/plain": [
       "{'Accuracy': '0.978', 'AUC': '0.931', 'F1': '0.912'}"
      ]
     },
     "execution_count": 25,
     "metadata": {},
     "output_type": "execute_result"
    }
   ],
   "source": [
    "y_pred = train_eval_model(SGDClassifier(), \n",
    "                          X_full_train, \n",
    "                          y__full_train, \n",
    "                          X_test)\n",
    "\n",
    "scores = {'Accuracy' : f'{accuracy_score(y_test, y_pred):.3f}', \n",
    "           'AUC' : f'{roc_auc_score(y_test, y_pred):.3f}', \n",
    "           'F1' : f'{f1_score(y_test, y_pred):.3f}'}\n",
    "\n",
    "scores"
   ]
  },
  {
   "cell_type": "code",
   "execution_count": 26,
   "id": "dd524c2a",
   "metadata": {},
   "outputs": [
    {
     "name": "stdout",
     "output_type": "stream",
     "text": [
      "0.979\n"
     ]
    }
   ],
   "source": [
    "param_grid = {\n",
    "    'tfidf__use_idf': (True, False),\n",
    "    'model__alpha': (1e-2, 1e-3),\n",
    "    'model__penalty': ('l2', 'elasticnet', 'none'),\n",
    "    'model__max_iter': (5, 10, 50, 100, 500, 1000),\n",
    "    'model__learning_rate': ('optimal', 'adaptive', 'invscaling'),\n",
    "    'model__loss': ('hinge', 'log', 'modified_huber'),\n",
    "    'model__random_state': (42,)\n",
    "}\n",
    "\n",
    "pipe = Pipeline([\n",
    "        ('vect', CountVectorizer(tokenizer=dummy, \n",
    "                                 preprocessor=dummy)),\n",
    "        ('tfidf', TfidfTransformer()),\n",
    "        ('model', SGDClassifier())\n",
    "    ])\n",
    "\n",
    "gs_clf = GridSearchCV(pipe, param_grid, cv=5, n_jobs=-1).fit(X_full_train, y__full_train)\n",
    "\n",
    "gs_best = gs_clf.best_params_\n",
    "print(f'{gs_clf.best_score_:.3f}')"
   ]
  },
  {
   "cell_type": "code",
   "execution_count": 27,
   "id": "9a5a8ab8",
   "metadata": {},
   "outputs": [
    {
     "data": {
      "text/plain": [
       "{'model__alpha': 0.001,\n",
       " 'model__learning_rate': 'optimal',\n",
       " 'model__loss': 'modified_huber',\n",
       " 'model__max_iter': 5,\n",
       " 'model__penalty': 'l2',\n",
       " 'model__random_state': 42,\n",
       " 'tfidf__use_idf': False}"
      ]
     },
     "execution_count": 27,
     "metadata": {},
     "output_type": "execute_result"
    }
   ],
   "source": [
    "gs_best"
   ]
  },
  {
   "cell_type": "markdown",
   "id": "a279e70e",
   "metadata": {},
   "source": [
    "# Final Model"
   ]
  },
  {
   "cell_type": "code",
   "execution_count": 28,
   "id": "93c22894",
   "metadata": {},
   "outputs": [
    {
     "data": {
      "text/plain": [
       "{'Accuracy': '0.979', 'AUC': '0.935', 'F1': '0.919'}"
      ]
     },
     "execution_count": 28,
     "metadata": {},
     "output_type": "execute_result"
    }
   ],
   "source": [
    "model = SGDClassifier(learning_rate='optimal', \n",
    "                      loss='modified_huber', \n",
    "                      max_iter=10, \n",
    "                      random_state=42)\n",
    "\n",
    "pipe = Pipeline([\n",
    "    ('vect', CountVectorizer(tokenizer=dummy, \n",
    "                            preprocessor=dummy)),\n",
    "    ('tfidf', TfidfTransformer()),\n",
    "    ('model', model)\n",
    "])\n",
    "\n",
    "pipe.fit(X_full_train, y__full_train)\n",
    "\n",
    "y_pred = pipe.predict(X_test)\n",
    "\n",
    "scores = {'Accuracy' : f'{accuracy_score(y_test, y_pred):.3f}',\n",
    "          'AUC' : f'{roc_auc_score(y_test, y_pred):.3f}',\n",
    "          'F1' : f'{f1_score(y_test, y_pred):.3f}'}\n",
    "\n",
    "scores"
   ]
  }
 ],
 "metadata": {
  "kernelspec": {
   "display_name": "Python 3 (ipykernel)",
   "language": "python",
   "name": "python3"
  },
  "language_info": {
   "codemirror_mode": {
    "name": "ipython",
    "version": 3
   },
   "file_extension": ".py",
   "mimetype": "text/x-python",
   "name": "python",
   "nbconvert_exporter": "python",
   "pygments_lexer": "ipython3",
   "version": "3.10.6"
  }
 },
 "nbformat": 4,
 "nbformat_minor": 5
}
